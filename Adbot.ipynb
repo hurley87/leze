{
 "cells": [
  {
   "cell_type": "code",
   "execution_count": 246,
   "metadata": {},
   "outputs": [],
   "source": [
    "from facebook_business.api import FacebookAdsApi\n",
    "from facebook_business import FacebookSession\n",
    "from facebook_business.adobjects.user import User\n",
    "from facebook_business.adobjects.campaign import Campaign\n",
    "from facebook_business.adobjects.adaccount import AdAccount\n",
    "from facebook_business.adobjects.adpreview import AdPreview\n",
    "# from facebookads.adobjects.adset import AdSet\n",
    "# from facebookads.adobjects.adimage import AdImage\n",
    "# from facebookads.adobjects.adspixel import AdsPixel\n",
    "from facebook_business.adobjects.adcreative import AdCreative\n",
    "from facebook_business.adobjects.ad import Ad\n",
    "# from facebookads.adobjects.targeting import Targeting\n",
    "import json\n",
    "import os\n",
    "import unicodedata"
   ]
  },
  {
   "cell_type": "code",
   "execution_count": 247,
   "metadata": {},
   "outputs": [
    {
     "name": "stdout",
     "output_type": "stream",
     "text": [
      "<facebook_business.api.FacebookAdsApi object at 0x10a343940>\n"
     ]
    }
   ],
   "source": [
    "# cool AD data\n",
    "my_app_id = \"2280157165384459\"\n",
    "my_app_secret = \"5caa8b5c49cf78f2285f9921b51baf98\"\n",
    "my_access_token_1 = \"EAAgZAynXf8wsBAECSf1NPj4ZAajFgeagcXWj5cZAa82MkOIGFOqzNe4pkhX5ZCzhBeNwO2gU32qvOamvu1QXCeCjWnIKoXb2ry9guneMZB49789ZBPSClGcRlZBZASmIJfRKYHtV7VGJygUS5sowDOGzP2n25OW94dUZD\"\n",
    "\n",
    "session1 = FacebookSession(\n",
    "    my_app_id,\n",
    "    my_app_secret,\n",
    "    my_access_token_1\n",
    ")\n",
    "\n",
    "api1 = FacebookAdsApi(session1)\n",
    "# 2039741129633793\n",
    "print(api1)\n",
    "\n",
    "FacebookAdsApi.set_default_api(api1)\n",
    "me = User(fbid='me', api=api1)\n",
    "my_accounts = list(me.get_ad_accounts())\n",
    "\n",
    "my_account = my_accounts[0]\n",
    "\n",
    "my_account_id = 'act_2039741129633793'\n",
    "\n",
    "account = AdAccount(my_account_id)"
   ]
  },
  {
   "cell_type": "code",
   "execution_count": 248,
   "metadata": {},
   "outputs": [],
   "source": [
    "# last_3_months\n",
    "# this_month\n",
    "# last_week\n",
    "# this_week\n",
    "# lifetime\n",
    "# https://developers.facebook.com/docs/marketing-api/insights/parameters/v2.7\n",
    "time_range = \"last_week\""
   ]
  },
  {
   "cell_type": "code",
   "execution_count": 249,
   "metadata": {},
   "outputs": [],
   "source": [
    "# EXTRACT\n",
    "# ad insights data\n",
    "insights = account.get_insights(fields=[\n",
    "    'impressions',\n",
    "    'ad_id',\n",
    "    'spend',\n",
    "    'unique_clicks',\n",
    "    'unique_actions',\n",
    "    'cpm',\n",
    "    'cpc',\n",
    "    'adset_name',\n",
    "    'ad_name',\n",
    "    'campaign_name',\n",
    "    'actions',\n",
    "    'cpp',\n",
    "    'ctr',\n",
    "    'reach',\n",
    "    'unique_clicks',\n",
    "    'date_start',\n",
    "    'date_stop'\n",
    "], params={\n",
    "    'level': 'ad',\n",
    "    'date_presets': time_range\n",
    "})"
   ]
  },
  {
   "cell_type": "code",
   "execution_count": 250,
   "metadata": {},
   "outputs": [
    {
     "name": "stdout",
     "output_type": "stream",
     "text": [
      "ADDDDD\n",
      "<AdsInsights> {\n",
      "    \"ad_id\": \"23843190453880483\",\n",
      "    \"ad_name\": \"Suit Collection_LLA_IG Only_Image\",\n",
      "    \"adset_name\": \"LLA 3% US Initiate Checkout 180 IG - Website\",\n",
      "    \"campaign_name\": \"CM_WC_2019\",\n",
      "    \"cpc\": \"0.86\",\n",
      "    \"cpm\": \"5.308642\",\n",
      "    \"cpp\": \"5.308642\",\n",
      "    \"ctr\": \"0.617284\",\n",
      "    \"date_start\": \"2019-01-25\",\n",
      "    \"date_stop\": \"2019-02-23\",\n",
      "    \"impressions\": \"162\",\n",
      "    \"reach\": \"162\",\n",
      "    \"spend\": \"0.86\",\n",
      "    \"unique_clicks\": \"1\"\n",
      "}\n"
     ]
    }
   ],
   "source": [
    "# TRANSFORM\n",
    "# only include ad if it has clicks and actions\n",
    "import pandas as pd\n",
    "ad_insights = []\n",
    "for ad in insights:\n",
    "    if 'cpc' in ad:\n",
    "        cool_ad = {\n",
    "            \"ad_id\": ad['ad_id'],\n",
    "            \"ad_name\": ad['ad_name'],\n",
    "            \"adset_name\": ad['adset_name'],\n",
    "            \"campaign_name\": ad['campaign_name'],\n",
    "            \"clicks\": int(ad['unique_clicks']),\n",
    "            \"spend\": float(ad['spend']),\n",
    "            \"cpc\": float(ad['cpc']),\n",
    "            \"cpm\": float(ad['cpm']),\n",
    "            \"date_start\": ad['date_start'],\n",
    "            \"date_stop\": ad['date_stop'],\n",
    "            'impressions': int(ad['impressions']) \n",
    "        }\n",
    "        try:\n",
    "            actions = ad['unique_actions']\n",
    "            cart_adds = list(filter(lambda action: action['action_type'] == 'offsite_conversion.fb_pixel_add_to_cart', actions))\n",
    "            checkouts = list(filter(lambda action: action['action_type'] == 'offsite_conversion.fb_pixel_initiate_checkout', actions))\n",
    "            view_contents = list(filter(lambda action: action['action_type'] == 'offsite_conversion.fb_pixel_view_content', actions))\n",
    "            purchases = list(filter(lambda action: action['action_type'] == 'offsite_conversion.fb_pixel_purchase', actions))\n",
    "            cool_ad['cart_adds'] = 0 \n",
    "            cool_ad['checkouts'] = 0\n",
    "            cool_ad['view_contents'] = 0\n",
    "            cool_ad['purchases'] = 0\n",
    "            if len(cart_adds) != 0: cool_ad['card_adds'] = int(cart_adds[0]['value'])\n",
    "            if len(checkouts) != 0: cool_ad['checkouts'] = int(checkouts[0]['value'])\n",
    "            if len(view_contents) != 0: cool_ad['view_contents'] = int(view_contents[0]['value'])\n",
    "            if len(purchases) != 0: cool_ad['purchases'] = int(purchases[0]['value'])\n",
    "            ad_insights.append(cool_ad)\n",
    "        except:\n",
    "            print('ADDDDD')\n",
    "            print(ad)\n",
    "    \n",
    "ad_insights_df = pd.DataFrame(ad_insights)"
   ]
  },
  {
   "cell_type": "code",
   "execution_count": 251,
   "metadata": {},
   "outputs": [
    {
     "data": {
      "text/plain": [
       "143"
      ]
     },
     "execution_count": 251,
     "metadata": {},
     "output_type": "execute_result"
    }
   ],
   "source": [
    "len(ad_insights)"
   ]
  },
  {
   "cell_type": "code",
   "execution_count": 252,
   "metadata": {},
   "outputs": [],
   "source": [
    "ad_insights_df = pd.DataFrame(ad_insights)"
   ]
  },
  {
   "cell_type": "code",
   "execution_count": 253,
   "metadata": {},
   "outputs": [
    {
     "data": {
      "text/plain": [
       "143"
      ]
     },
     "execution_count": 253,
     "metadata": {},
     "output_type": "execute_result"
    }
   ],
   "source": [
    "len(ad_insights_df)"
   ]
  },
  {
   "cell_type": "code",
   "execution_count": 254,
   "metadata": {},
   "outputs": [
    {
     "data": {
      "text/plain": [
       "array(['ad_id', 'ad_name', 'adset_name', 'campaign_name', 'card_adds',\n",
       "       'cart_adds', 'checkouts', 'clicks', 'cpc', 'cpm', 'date_start',\n",
       "       'date_stop', 'impressions', 'purchases', 'spend', 'view_contents'],\n",
       "      dtype=object)"
      ]
     },
     "execution_count": 254,
     "metadata": {},
     "output_type": "execute_result"
    }
   ],
   "source": [
    "ad_insights_df.columns.values"
   ]
  },
  {
   "cell_type": "code",
   "execution_count": 255,
   "metadata": {},
   "outputs": [],
   "source": [
    "# EXTRACT\n",
    "# creative data\n",
    "creatives = account.get_ad_creatives(fields=[\n",
    "    'image_url',\n",
    "    'title',\n",
    "    \"object_story_spec\"\n",
    "], params={\n",
    "    'level': 'ad',\n",
    "    'date_presets': time_range\n",
    "})"
   ]
  },
  {
   "cell_type": "code",
   "execution_count": 256,
   "metadata": {},
   "outputs": [],
   "source": [
    "ad_creatives = []\n",
    "for creative in creatives:\n",
    "    title = ''\n",
    "    image_url = ''\n",
    "    object_story_spec = {}\n",
    "    \n",
    "    if 'title' in creative:\n",
    "        title = creative['title']\n",
    "        \n",
    "    if 'image_url' in creative:\n",
    "        image_url = creative['image_url']\n",
    "        \n",
    "    if 'object_story_spec' in creative:\n",
    "        object_story_spec = creative['object_story_spec']\n",
    "        \n",
    "    ad_creatives.append({\n",
    "        'id': creative['id'],\n",
    "        'object_story_spec': object_story_spec,\n",
    "        'image_url': image_url,\n",
    "        'title': title\n",
    "    })"
   ]
  },
  {
   "cell_type": "code",
   "execution_count": 257,
   "metadata": {},
   "outputs": [
    {
     "data": {
      "text/plain": [
       "1228"
      ]
     },
     "execution_count": 257,
     "metadata": {},
     "output_type": "execute_result"
    }
   ],
   "source": [
    "len(ad_creatives)"
   ]
  },
  {
   "cell_type": "code",
   "execution_count": 258,
   "metadata": {},
   "outputs": [],
   "source": [
    "ad_creatives_df = pd.DataFrame(ad_creatives)"
   ]
  },
  {
   "cell_type": "code",
   "execution_count": 259,
   "metadata": {},
   "outputs": [
    {
     "data": {
      "text/plain": [
       "375"
      ]
     },
     "execution_count": 259,
     "metadata": {},
     "output_type": "execute_result"
    }
   ],
   "source": [
    "len(ad_creatives_df[ad_creatives_df.title == \"\"])"
   ]
  },
  {
   "cell_type": "code",
   "execution_count": 260,
   "metadata": {},
   "outputs": [],
   "source": [
    "def extract_title(ad):\n",
    "    title, object_story_spec = ad\n",
    "    \n",
    "    if title != \"\":\n",
    "        return title\n",
    "    else:\n",
    "        if 'link_data' in object_story_spec and 'name' in object_story_spec['link_data']:\n",
    "            return object_story_spec['link_data']['name']\n",
    "        elif 'link_data' in object_story_spec and \"child_attachments\" in object_story_spec['link_data']:\n",
    "            return 'carousel'\n",
    "        else:\n",
    "            return \"\"\n",
    "        \n",
    "ad_creatives_df['title'] = ad_creatives_df[['title', 'object_story_spec']].apply(extract_title, axis=1)"
   ]
  },
  {
   "cell_type": "code",
   "execution_count": 261,
   "metadata": {},
   "outputs": [
    {
     "data": {
      "text/plain": [
       "245"
      ]
     },
     "execution_count": 261,
     "metadata": {},
     "output_type": "execute_result"
    }
   ],
   "source": [
    "len(ad_creatives_df[ad_creatives_df.title == \"\"])"
   ]
  },
  {
   "cell_type": "code",
   "execution_count": 264,
   "metadata": {},
   "outputs": [],
   "source": [
    "# EXTRACT \n",
    "# ads\n",
    "ads = account.get_ads(fields=[\n",
    "    'targeting',\n",
    "    'id',\n",
    "    'bid_amount',\n",
    "    'bid_type',\n",
    "    'status',\n",
    "    'creative'\n",
    "], params={\n",
    "    'level': 'ad',\n",
    "    'date_presets': time_range\n",
    "})"
   ]
  },
  {
   "cell_type": "code",
   "execution_count": 265,
   "metadata": {},
   "outputs": [],
   "source": [
    "# extract ads \n",
    "ad_targeting = []\n",
    "for ad in ads:\n",
    "    try:\n",
    "        ad_targeting.append({\n",
    "            'id': ad['id'],\n",
    "            'targeting': ad['targeting'],\n",
    "            'status': ad['status'],\n",
    "            'creative': ad['creative']['id'],\n",
    "        })\n",
    "    except:\n",
    "        print(ad)"
   ]
  },
  {
   "cell_type": "code",
   "execution_count": 266,
   "metadata": {},
   "outputs": [
    {
     "data": {
      "text/plain": [
       "766"
      ]
     },
     "execution_count": 266,
     "metadata": {},
     "output_type": "execute_result"
    }
   ],
   "source": [
    "len(ad_targeting)"
   ]
  },
  {
   "cell_type": "code",
   "execution_count": 267,
   "metadata": {},
   "outputs": [],
   "source": [
    "ads_df = pd.DataFrame(ad_targeting)"
   ]
  },
  {
   "cell_type": "code",
   "execution_count": 268,
   "metadata": {},
   "outputs": [
    {
     "data": {
      "text/plain": [
       "766"
      ]
     },
     "execution_count": 268,
     "metadata": {},
     "output_type": "execute_result"
    }
   ],
   "source": [
    "len(ads_df)"
   ]
  },
  {
   "cell_type": "code",
   "execution_count": 269,
   "metadata": {},
   "outputs": [],
   "source": [
    "def extract_min_age(targeting):\n",
    "    return targeting['age_min']\n",
    "\n",
    "def extract_max_age(targeting):\n",
    "    return targeting['age_max']\n",
    "\n",
    "def is_mobile(targeting):\n",
    "    try:\n",
    "        if 'mobile' in targeting['device_platforms']:\n",
    "            return 1\n",
    "        else:\n",
    "            return 0\n",
    "        \n",
    "    except:\n",
    "        print(targeting)\n",
    "    \n",
    "def is_female(targeting):\n",
    "    if 'genders' in targeting and 2 in targeting['genders']:\n",
    "        return 1\n",
    "    else:\n",
    "        return 0\n",
    "\n",
    "def is_male(targeting):\n",
    "    if 'genders' in targeting and 1 in targeting['genders']:\n",
    "        return 1\n",
    "    else:\n",
    "        return 0\n",
    "    \n",
    "def is_facebook(targeting):\n",
    "    if 'publisher_platforms' in targeting and \"facebook\" in targeting['publisher_platforms']:\n",
    "        return 1\n",
    "    else:\n",
    "        return 0\n",
    "    \n",
    "def is_instagram(targeting):\n",
    "    if 'publisher_platforms' in targeting and \"instagram\" in targeting['publisher_platforms']:\n",
    "        return 1\n",
    "    else:\n",
    "        return 0\n",
    "    \n",
    "def is_messenger(targeting):\n",
    "    if 'publisher_platforms' in targeting and \"messenger\" in targeting['publisher_platforms']:\n",
    "        return 1\n",
    "    else:\n",
    "        return 0\n",
    "        \n",
    "def is_audience_network(targeting):\n",
    "    if 'publisher_platforms' in targeting and \"audience_network\" in targeting['publisher_platforms']:\n",
    "        return 1\n",
    "    else:\n",
    "        return 0 \n",
    "\n",
    "df['min_age'] = df.targeting.apply(extract_min_age)\n",
    "df['max_age'] = df.targeting.apply(extract_max_age)\n",
    "df['is_female'] = df.targeting.apply(is_female)\n",
    "df['is_male'] = df.targeting.apply(is_male)\n",
    "df['is_facebook'] = df.targeting.apply(is_facebook)\n",
    "df['is_instagram'] = df.targeting.apply(is_instagram)\n",
    "df['is_messenger'] = df.targeting.apply(is_messenger)\n",
    "df['is_audience_network'] = df.targeting.apply(is_audience_network)"
   ]
  },
  {
   "cell_type": "code",
   "execution_count": 270,
   "metadata": {},
   "outputs": [
    {
     "data": {
      "text/plain": [
       "14"
      ]
     },
     "execution_count": 270,
     "metadata": {},
     "output_type": "execute_result"
    }
   ],
   "source": [
    "df.is_audience_network.sum()"
   ]
  },
  {
   "cell_type": "code",
   "execution_count": 271,
   "metadata": {},
   "outputs": [
    {
     "name": "stdout",
     "output_type": "stream",
     "text": [
      "['ad_id' 'ad_name' 'adset_name' 'campaign_name' 'card_adds' 'cart_adds'\n",
      " 'checkouts' 'clicks' 'cpc' 'cpm' 'date_start' 'date_stop' 'impressions'\n",
      " 'purchases' 'spend' 'view_contents']\n",
      "['creative' 'id' 'status' 'targeting']\n"
     ]
    }
   ],
   "source": [
    "# tie them all together and send an email to the gang with CSV \n",
    "# publish top ad to Slack using mode\n",
    "print(ad_insights_df.columns.values)\n",
    "print(ads_df.columns.values)"
   ]
  },
  {
   "cell_type": "code",
   "execution_count": 272,
   "metadata": {},
   "outputs": [],
   "source": [
    "df = ad_insights_df.join(ads_df, lsuffix='ad_id', rsuffix='id')"
   ]
  },
  {
   "cell_type": "code",
   "execution_count": 273,
   "metadata": {},
   "outputs": [
    {
     "data": {
      "text/plain": [
       "array(['ad_id', 'ad_name', 'adset_name', 'campaign_name', 'card_adds',\n",
       "       'cart_adds', 'checkouts', 'clicks', 'cpc', 'cpm', 'date_start',\n",
       "       'date_stop', 'impressions', 'purchases', 'spend', 'view_contents',\n",
       "       'creative', 'id', 'status', 'targeting'], dtype=object)"
      ]
     },
     "execution_count": 273,
     "metadata": {},
     "output_type": "execute_result"
    }
   ],
   "source": [
    "df.columns.values"
   ]
  },
  {
   "cell_type": "code",
   "execution_count": 274,
   "metadata": {},
   "outputs": [
    {
     "data": {
      "text/plain": [
       "143"
      ]
     },
     "execution_count": 274,
     "metadata": {},
     "output_type": "execute_result"
    }
   ],
   "source": [
    "len(df)"
   ]
  },
  {
   "cell_type": "code",
   "execution_count": 275,
   "metadata": {},
   "outputs": [
    {
     "data": {
      "text/plain": [
       "143"
      ]
     },
     "execution_count": 275,
     "metadata": {},
     "output_type": "execute_result"
    }
   ],
   "source": [
    "len(ad_insights_df)"
   ]
  },
  {
   "cell_type": "code",
   "execution_count": 276,
   "metadata": {},
   "outputs": [
    {
     "data": {
      "text/plain": [
       "766"
      ]
     },
     "execution_count": 276,
     "metadata": {},
     "output_type": "execute_result"
    }
   ],
   "source": [
    "len(ads_df)"
   ]
  },
  {
   "cell_type": "code",
   "execution_count": 277,
   "metadata": {},
   "outputs": [
    {
     "data": {
      "text/plain": [
       "array(['ad_id', 'ad_name', 'adset_name', 'campaign_name', 'card_adds',\n",
       "       'cart_adds', 'checkouts', 'clicks', 'cpc', 'cpm', 'date_start',\n",
       "       'date_stop', 'impressions', 'purchases', 'spend', 'view_contents',\n",
       "       'creative', 'id', 'status', 'targeting'], dtype=object)"
      ]
     },
     "execution_count": 277,
     "metadata": {},
     "output_type": "execute_result"
    }
   ],
   "source": [
    "df.columns.values"
   ]
  },
  {
   "cell_type": "code",
   "execution_count": 278,
   "metadata": {},
   "outputs": [
    {
     "data": {
      "text/plain": [
       "array(['id', 'image_url', 'object_story_spec', 'title'], dtype=object)"
      ]
     },
     "execution_count": 278,
     "metadata": {},
     "output_type": "execute_result"
    }
   ],
   "source": [
    "ad_creatives_df.columns.values"
   ]
  },
  {
   "cell_type": "code",
   "execution_count": 279,
   "metadata": {},
   "outputs": [],
   "source": [
    "df = df.join(ad_creatives_df, lsuffix='creative', rsuffix='id')"
   ]
  },
  {
   "cell_type": "code",
   "execution_count": 280,
   "metadata": {},
   "outputs": [
    {
     "data": {
      "text/plain": [
       "array(['ad_id', 'ad_name', 'adset_name', 'campaign_name', 'card_adds',\n",
       "       'cart_adds', 'checkouts', 'clicks', 'cpc', 'cpm', 'date_start',\n",
       "       'date_stop', 'impressions', 'purchases', 'spend', 'view_contents',\n",
       "       'creative', 'idcreative', 'status', 'targeting', 'idid',\n",
       "       'image_url', 'object_story_spec', 'title'], dtype=object)"
      ]
     },
     "execution_count": 280,
     "metadata": {},
     "output_type": "execute_result"
    }
   ],
   "source": [
    "df.columns.values"
   ]
  },
  {
   "cell_type": "code",
   "execution_count": 281,
   "metadata": {},
   "outputs": [
    {
     "data": {
      "text/plain": [
       "143"
      ]
     },
     "execution_count": 281,
     "metadata": {},
     "output_type": "execute_result"
    }
   ],
   "source": [
    "len(df)"
   ]
  },
  {
   "cell_type": "code",
   "execution_count": 282,
   "metadata": {},
   "outputs": [
    {
     "name": "stdout",
     "output_type": "stream",
     "text": [
      "<class 'pandas.core.frame.DataFrame'>\n",
      "RangeIndex: 143 entries, 0 to 142\n",
      "Data columns (total 24 columns):\n",
      "ad_id                143 non-null object\n",
      "ad_name              143 non-null object\n",
      "adset_name           143 non-null object\n",
      "campaign_name        143 non-null object\n",
      "card_adds            55 non-null float64\n",
      "cart_adds            143 non-null int64\n",
      "checkouts            143 non-null int64\n",
      "clicks               143 non-null int64\n",
      "cpc                  143 non-null float64\n",
      "cpm                  143 non-null float64\n",
      "date_start           143 non-null object\n",
      "date_stop            143 non-null object\n",
      "impressions          143 non-null int64\n",
      "purchases            143 non-null int64\n",
      "spend                143 non-null float64\n",
      "view_contents        143 non-null int64\n",
      "creative             143 non-null object\n",
      "idcreative           143 non-null object\n",
      "status               143 non-null object\n",
      "targeting            143 non-null object\n",
      "idid                 143 non-null object\n",
      "image_url            143 non-null object\n",
      "object_story_spec    143 non-null object\n",
      "title                143 non-null object\n",
      "dtypes: float64(4), int64(6), object(14)\n",
      "memory usage: 26.9+ KB\n"
     ]
    }
   ],
   "source": [
    "df.info()"
   ]
  },
  {
   "cell_type": "code",
   "execution_count": 283,
   "metadata": {},
   "outputs": [
    {
     "data": {
      "text/plain": [
       "8576.720000000001"
      ]
     },
     "execution_count": 283,
     "metadata": {},
     "output_type": "execute_result"
    }
   ],
   "source": [
    "df.spend.sum()"
   ]
  },
  {
   "cell_type": "code",
   "execution_count": 284,
   "metadata": {},
   "outputs": [
    {
     "data": {
      "text/plain": [
       "932709"
      ]
     },
     "execution_count": 284,
     "metadata": {},
     "output_type": "execute_result"
    }
   ],
   "source": [
    "df.impressions.sum()"
   ]
  },
  {
   "cell_type": "code",
   "execution_count": 285,
   "metadata": {},
   "outputs": [
    {
     "data": {
      "text/plain": [
       "20139"
      ]
     },
     "execution_count": 285,
     "metadata": {},
     "output_type": "execute_result"
    }
   ],
   "source": [
    "df.clicks.sum()"
   ]
  },
  {
   "cell_type": "code",
   "execution_count": 286,
   "metadata": {},
   "outputs": [
    {
     "data": {
      "text/plain": [
       "12056"
      ]
     },
     "execution_count": 286,
     "metadata": {},
     "output_type": "execute_result"
    }
   ],
   "source": [
    "df.view_contents.sum()"
   ]
  },
  {
   "cell_type": "code",
   "execution_count": 287,
   "metadata": {},
   "outputs": [
    {
     "data": {
      "text/plain": [
       "425"
      ]
     },
     "execution_count": 287,
     "metadata": {},
     "output_type": "execute_result"
    }
   ],
   "source": [
    "df.checkouts.sum()"
   ]
  },
  {
   "cell_type": "code",
   "execution_count": 288,
   "metadata": {},
   "outputs": [
    {
     "data": {
      "text/plain": [
       "90"
      ]
     },
     "execution_count": 288,
     "metadata": {},
     "output_type": "execute_result"
    }
   ],
   "source": [
    "df.purchases.sum()"
   ]
  },
  {
   "cell_type": "code",
   "execution_count": 289,
   "metadata": {},
   "outputs": [
    {
     "data": {
      "text/plain": [
       "array(['ad_id', 'ad_name', 'adset_name', 'campaign_name', 'card_adds',\n",
       "       'cart_adds', 'checkouts', 'clicks', 'cpc', 'cpm', 'date_start',\n",
       "       'date_stop', 'impressions', 'purchases', 'spend', 'view_contents',\n",
       "       'creative', 'idcreative', 'status', 'targeting', 'idid',\n",
       "       'image_url', 'object_story_spec', 'title'], dtype=object)"
      ]
     },
     "execution_count": 289,
     "metadata": {},
     "output_type": "execute_result"
    }
   ],
   "source": [
    "df.columns.values"
   ]
  },
  {
   "cell_type": "code",
   "execution_count": 290,
   "metadata": {},
   "outputs": [
    {
     "data": {
      "text/plain": [
       "12056"
      ]
     },
     "execution_count": 290,
     "metadata": {},
     "output_type": "execute_result"
    }
   ],
   "source": [
    "df.view_contents.sum()"
   ]
  },
  {
   "cell_type": "code",
   "execution_count": 291,
   "metadata": {},
   "outputs": [],
   "source": [
    "df.to_csv('last_week.csv')"
   ]
  },
  {
   "cell_type": "code",
   "execution_count": null,
   "metadata": {},
   "outputs": [],
   "source": []
  }
 ],
 "metadata": {
  "kernelspec": {
   "display_name": "Python 3",
   "language": "python",
   "name": "python3"
  },
  "language_info": {
   "codemirror_mode": {
    "name": "ipython",
    "version": 3
   },
   "file_extension": ".py",
   "mimetype": "text/x-python",
   "name": "python",
   "nbconvert_exporter": "python",
   "pygments_lexer": "ipython3",
   "version": "3.6.5"
  }
 },
 "nbformat": 4,
 "nbformat_minor": 2
}
