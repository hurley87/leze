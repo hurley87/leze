{
 "cells": [
  {
   "cell_type": "code",
   "execution_count": 2,
   "metadata": {},
   "outputs": [],
   "source": [
    "import pandas as pd\n",
    "import  json "
   ]
  },
  {
   "cell_type": "code",
   "execution_count": 3,
   "metadata": {},
   "outputs": [],
   "source": [
    "df = pd.read_csv(\"leze.csv\")"
   ]
  },
  {
   "cell_type": "code",
   "execution_count": 4,
   "metadata": {},
   "outputs": [
    {
     "data": {
      "text/plain": [
       "2942"
      ]
     },
     "execution_count": 4,
     "metadata": {},
     "output_type": "execute_result"
    }
   ],
   "source": [
    "len(df)"
   ]
  },
  {
   "cell_type": "code",
   "execution_count": 5,
   "metadata": {},
   "outputs": [
    {
     "data": {
      "text/plain": [
       "array(['ID', 'SOURCE_ID', 'TARGETING', 'BID_AMOUNT', 'CREATED_TIME',\n",
       "       'BID_INFO', 'CREATIVE', 'STATUS', 'NAME', 'CLICKS', 'ACTIONS',\n",
       "       'DATE_START', 'DATE_STOP', 'CPC', 'CPM', 'CPP', 'CTR', 'FREQUENCY',\n",
       "       'REACH', 'SPEND', 'SCORE'], dtype=object)"
      ]
     },
     "execution_count": 5,
     "metadata": {},
     "output_type": "execute_result"
    }
   ],
   "source": [
    "df.columns.values"
   ]
  },
  {
   "cell_type": "code",
   "execution_count": 6,
   "metadata": {},
   "outputs": [
    {
     "data": {
      "text/plain": [
       "ADSET_PAUSED       1812\n",
       "CAMPAIGN_PAUSED     588\n",
       "ACTIVE              263\n",
       "PAUSED              229\n",
       "PENDING_REVIEW       50\n",
       "Name: STATUS, dtype: int64"
      ]
     },
     "execution_count": 6,
     "metadata": {},
     "output_type": "execute_result"
    }
   ],
   "source": [
    "df.STATUS.value_counts()"
   ]
  },
  {
   "cell_type": "code",
   "execution_count": 7,
   "metadata": {},
   "outputs": [
    {
     "data": {
      "text/plain": [
       "count    2942.000000\n",
       "mean        0.932193\n",
       "std         1.479813\n",
       "min         0.030000\n",
       "25%         0.304899\n",
       "50%         0.503229\n",
       "75%         0.975000\n",
       "max        26.600000\n",
       "Name: CPC, dtype: float64"
      ]
     },
     "execution_count": 7,
     "metadata": {},
     "output_type": "execute_result"
    }
   ],
   "source": [
    "df.CPC.describe()"
   ]
  },
  {
   "cell_type": "code",
   "execution_count": 8,
   "metadata": {},
   "outputs": [],
   "source": [
    "def extract_type(acts, act_type):\n",
    "    cart_adds = list(filter(lambda action: action['action_type'] == act_type, acts))\n",
    "    if len(cart_adds) > 0:\n",
    "        if 'value' in cart_adds[0]:\n",
    "            return int(cart_adds[0]['value'])\n",
    "        else:\n",
    "            return 0\n",
    "    else:\n",
    "        return 0\n",
    "            \n",
    "def extract_add_carts(actions):\n",
    "    return extract_type(json.loads(actions), 'offsite_conversion.fb_pixel_add_to_cart')\n",
    "\n",
    "def extract_checkouts(actions):\n",
    "    return extract_type(json.loads(actions), 'offsite_conversion.fb_pixel_initiate_checkout')\n",
    "\n",
    "def extract_views(actions):\n",
    "    return extract_type(json.loads(actions), 'offsite_conversion.fb_pixel_view_content')\n",
    "\n",
    "def extract_purchases(actions):\n",
    "    return extract_type(json.loads(actions), 'offsite_conversion.fb_pixel_purchase')\n",
    "\n",
    "df['carts'] = df.ACTIONS.apply(extract_add_carts)\n",
    "df['checkouts'] = df.ACTIONS.apply(extract_checkouts)\n",
    "df['views'] = df.ACTIONS.apply(extract_views)\n",
    "df['purchases'] = df.ACTIONS.apply(extract_purchases)"
   ]
  },
  {
   "cell_type": "code",
   "execution_count": 9,
   "metadata": {},
   "outputs": [
    {
     "data": {
      "text/plain": [
       "0    2505\n",
       "1     329\n",
       "2      75\n",
       "3      19\n",
       "4       6\n",
       "5       5\n",
       "6       2\n",
       "8       1\n",
       "Name: purchases, dtype: int64"
      ]
     },
     "execution_count": 9,
     "metadata": {},
     "output_type": "execute_result"
    }
   ],
   "source": [
    "df.purchases.value_counts()"
   ]
  },
  {
   "cell_type": "code",
   "execution_count": 18,
   "metadata": {},
   "outputs": [
    {
     "data": {
      "text/plain": [
       "0    2505\n",
       "1     329\n",
       "2      75\n",
       "3      19\n",
       "4       6\n",
       "5       5\n",
       "6       2\n",
       "8       1\n",
       "Name: purchases, dtype: int64"
      ]
     },
     "execution_count": 18,
     "metadata": {},
     "output_type": "execute_result"
    }
   ],
   "source": [
    "df.purchases.value_counts()"
   ]
  },
  {
   "cell_type": "code",
   "execution_count": 12,
   "metadata": {},
   "outputs": [
    {
     "data": {
      "text/plain": [
       "51061"
      ]
     },
     "execution_count": 12,
     "metadata": {},
     "output_type": "execute_result"
    }
   ],
   "source": [
    "df.views.sum()"
   ]
  },
  {
   "cell_type": "code",
   "execution_count": null,
   "metadata": {},
   "outputs": [],
   "source": [
    "df.to_csv('cleaned')"
   ]
  }
 ],
 "metadata": {
  "kernelspec": {
   "display_name": "Python 3",
   "language": "python",
   "name": "python3"
  },
  "language_info": {
   "codemirror_mode": {
    "name": "ipython",
    "version": 3
   },
   "file_extension": ".py",
   "mimetype": "text/x-python",
   "name": "python",
   "nbconvert_exporter": "python",
   "pygments_lexer": "ipython3",
   "version": "3.6.5"
  }
 },
 "nbformat": 4,
 "nbformat_minor": 2
}
